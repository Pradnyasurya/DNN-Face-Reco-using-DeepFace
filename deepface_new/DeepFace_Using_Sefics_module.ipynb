{
 "cells": [
  {
   "cell_type": "code",
   "execution_count": 1,
   "id": "d2ede199-970c-49f3-a40e-cc4b22669957",
   "metadata": {},
   "outputs": [],
   "source": [
    "from deepface import DeepFace"
   ]
  },
  {
   "cell_type": "code",
   "execution_count": 7,
   "id": "ce4c35a5-afaf-4bcf-94fd-e24cd85856e5",
   "metadata": {},
   "outputs": [
    {
     "name": "stderr",
     "output_type": "stream",
     "text": [
      "Finding embedding for Angelina1.jpg:   0%|                                                       | 0/8 [00:00<?, ?it/s]"
     ]
    },
    {
     "name": "stdout",
     "output_type": "stream",
     "text": [
      "VGG-Face  is built\n"
     ]
    },
    {
     "name": "stderr",
     "output_type": "stream",
     "text": [
      "Finding embedding for pk3.jpg: 100%|█████████████████████████████████████████████████████| 8/8 [00:10<00:00,  1.31s/it]\n"
     ]
    },
    {
     "name": "stdout",
     "output_type": "stream",
     "text": [
      "Embeddings found for given data set in  10.452863454818726  seconds\n"
     ]
    }
   ],
   "source": [
    "# DeepFace.stream('database')\n",
    "DeepFace.stream(db_path = r'C:\\Users\\Pradnyasurya\\Summer_Project\\Day12_DNN_Face_Reco\\deepface_new\\database', enable_face_analysis = False)"
   ]
  },
  {
   "cell_type": "code",
   "execution_count": null,
   "id": "3591ac0b-24da-42c7-81bb-c513fa8dd5d4",
   "metadata": {},
   "outputs": [],
   "source": []
  }
 ],
 "metadata": {
  "kernelspec": {
   "display_name": "Python 3",
   "language": "python",
   "name": "python3"
  },
  "language_info": {
   "codemirror_mode": {
    "name": "ipython",
    "version": 3
   },
   "file_extension": ".py",
   "mimetype": "text/x-python",
   "name": "python",
   "nbconvert_exporter": "python",
   "pygments_lexer": "ipython3",
   "version": "3.8.10"
  }
 },
 "nbformat": 4,
 "nbformat_minor": 5
}
