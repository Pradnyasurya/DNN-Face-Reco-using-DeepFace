{
 "cells": [
  {
   "cell_type": "code",
   "execution_count": 11,
   "id": "0c162552-910a-4254-9e1a-60f721dc349c",
   "metadata": {},
   "outputs": [],
   "source": [
    "import cv2\n",
    "import numpy as np\n",
    "import matplotlib.pyplot as plt"
   ]
  },
  {
   "cell_type": "code",
   "execution_count": 12,
   "id": "a62aff45-7b18-4c2b-b6b1-9d09a5da8690",
   "metadata": {},
   "outputs": [
    {
     "name": "stdout",
     "output_type": "stream",
     "text": [
      "Directory  C:\\Users\\Pradnyasurya /.deepface created\n",
      "Directory  C:\\Users\\Pradnyasurya /.deepface/weights created\n"
     ]
    }
   ],
   "source": [
    "# from deepface.commons import functions\n",
    "from deepface import DeepFace"
   ]
  },
  {
   "cell_type": "code",
   "execution_count": 13,
   "id": "f5cd14ce-75db-4e48-ad6c-185cb37c4a14",
   "metadata": {},
   "outputs": [
    {
     "data": {
      "text/plain": [
       "'4.5.2'"
      ]
     },
     "execution_count": 13,
     "metadata": {},
     "output_type": "execute_result"
    }
   ],
   "source": [
    "cv2.__version__"
   ]
  },
  {
   "cell_type": "code",
   "execution_count": 21,
   "id": "4e0f335d-9e2a-4660-8235-b41f4a5df688",
   "metadata": {},
   "outputs": [],
   "source": [
    "model = cv2.dnn.readNetFromTorch(\"nn4.small2.v1.t7\")"
   ]
  },
  {
   "cell_type": "code",
   "execution_count": 22,
   "id": "f558800f-ede8-46a4-a8bb-b3bb86c15e15",
   "metadata": {},
   "outputs": [],
   "source": [
    "def findCosineDistance(source_representation, test_representation):\n",
    "    a = np.matmul(np.transpose(source_representation), test_representation)\n",
    "    b = np.sum(np.multiply(source_representation, source_representation))\n",
    "    c = np.sum(np.multiply(test_representation, test_representation))\n",
    "    return 1 - (a / (np.sqrt(b) * np.sqrt(c)))\n",
    "\n",
    "def findEuclideanDistance(source_representation, test_representation):\n",
    "    euclidean_distance = source_representation - test_representation\n",
    "    euclidean_distance = np.sum(np.multiply(euclidean_distance, euclidean_distance))\n",
    "    euclidean_distance = np.sqrt(euclidean_distance)\n",
    "    return euclidean_distance"
   ]
  },
  {
   "cell_type": "code",
   "execution_count": 23,
   "id": "e796b78b-f47d-49a6-b5e4-3cbbbefa157e",
   "metadata": {},
   "outputs": [],
   "source": [
    "def verify(img1_path, img2_path, plot = False):\n",
    "    \n",
    "    #img1 = functions.detectFace(img1_path, target_size=(96, 96))[0]\n",
    "    #img2 = functions.detectFace(img2_path, target_size=(96, 96))[0]\n",
    "    \n",
    "    img1 = DeepFace.detectFace(img1_path)[0]\n",
    "    img2 = DeepFace.detectFace(img2_path)[0]\n",
    "    #--------------------------------\n",
    "    \n",
    "    if plot:\n",
    "        fig = plt.figure()\n",
    "\n",
    "        ax1 = fig.add_subplot(1,2,1)\n",
    "        plt.imshow(img1[:,::-1])\n",
    "        plt.axis('off')\n",
    "\n",
    "        ax2 = fig.add_subplot(1,2,2)\n",
    "        plt.imshow(img2[:,::-1])\n",
    "        plt.axis('off')\n",
    "\n",
    "        plt.show()\n",
    "    \n",
    "    #--------------------------------\n",
    "    img1 = cv2.resize(img1, (96, 96))\n",
    "    img2 = cv2.resize(img2, (96, 96))\n",
    "    \n",
    "    img1_blob = cv2.dnn.blobFromImage(img1)\n",
    "    img2_blob = cv2.dnn.blobFromImage(img2)\n",
    "    \n",
    "    model.setInput(img1_blob)\n",
    "    img1_representation = model.forward()\n",
    "    \n",
    "    model.setInput(img2_blob)\n",
    "    img2_representation = model.forward()\n",
    "    \n",
    "    #print(\"Model represents faces as \",img1_representation[0].shape[0],\" dimensional vectors\")\n",
    "    \n",
    "    euclidean_distance = findEuclideanDistance(img1_representation[0], img2_representation[0])\n",
    "    cosine_distance = findCosineDistance(l2_normalize(img1_representation[0]), l2_normalize(img2_representation[0]))\n",
    "    \n",
    "    print(\"Euclidean distance: \", round(euclidean_distance, 4))\n",
    "    print(\"Cosine distance: \", round(cosine_distance, 4))\n",
    "    \n",
    "    \n",
    "    #if cosine_distance < 0.20:\n",
    "    if euclidean_distance < 0.60:\n",
    "        print(\"Result: verified\")\n",
    "    else:\n",
    "        print(\"Result: unverified!\")\n",
    "    \n",
    "    #return (euclidean_distance, cosine_distance)"
   ]
  },
  {
   "cell_type": "code",
   "execution_count": 25,
   "id": "457e9719-81cb-40f9-8741-8c105da3c8cf",
   "metadata": {},
   "outputs": [
    {
     "data": {
      "image/png": "[encoded data removed]",
      "text/plain": [
       "<Figure size 432x288 with 2 Axes>"
      ]
     },
     "metadata": {
      "needs_background": "light"
     },
     "output_type": "display_data"
    },
    {
     "ename": "error",
     "evalue": "OpenCV(4.5.2) C:\\Users\\runneradmin\\AppData\\Local\\Temp\\pip-req-build-vi271kac\\opencv\\modules\\dnn\\src\\layers\\convolution_layer.cpp:386: error: (-2:Unspecified error) Number of input channels should be multiple of 3 but got 1 in function 'cv::dnn::ConvolutionLayerImpl::getMemoryShapes'\n",
     "output_type": "error",
     "traceback": [
      "\u001b[1;31m---------------------------------------------------------------------------\u001b[0m",
      "\u001b[1;31merror\u001b[0m                                     Traceback (most recent call last)",
      "\u001b[1;32m<ipython-input-25-8928278f145f>\u001b[0m in \u001b[0;36m<module>\u001b[1;34m\u001b[0m\n\u001b[0;32m      1\u001b[0m \u001b[1;31m# AJ1=cv2.imread(\"AJ1.jpg\")\u001b[0m\u001b[1;33m\u001b[0m\u001b[1;33m\u001b[0m\u001b[1;33m\u001b[0m\u001b[0m\n\u001b[0;32m      2\u001b[0m \u001b[1;31m# AJ2=cv2.imread(\"AJ2.jpg\")\u001b[0m\u001b[1;33m\u001b[0m\u001b[1;33m\u001b[0m\u001b[1;33m\u001b[0m\u001b[0m\n\u001b[1;32m----> 3\u001b[1;33m \u001b[0mverify\u001b[0m\u001b[1;33m(\u001b[0m\u001b[1;34m\"md1.jpg\"\u001b[0m\u001b[1;33m,\u001b[0m \u001b[1;34m\"md2.jpg\"\u001b[0m\u001b[1;33m,\u001b[0m \u001b[0mplot\u001b[0m \u001b[1;33m=\u001b[0m \u001b[1;32mTrue\u001b[0m\u001b[1;33m)\u001b[0m\u001b[1;33m\u001b[0m\u001b[1;33m\u001b[0m\u001b[0m\n\u001b[0m",
      "\u001b[1;32m<ipython-input-23-010e43cb0e3e>\u001b[0m in \u001b[0;36mverify\u001b[1;34m(img1_path, img2_path, plot)\u001b[0m\n\u001b[0;32m     29\u001b[0m \u001b[1;33m\u001b[0m\u001b[0m\n\u001b[0;32m     30\u001b[0m     \u001b[0mmodel\u001b[0m\u001b[1;33m.\u001b[0m\u001b[0msetInput\u001b[0m\u001b[1;33m(\u001b[0m\u001b[0mimg1_blob\u001b[0m\u001b[1;33m)\u001b[0m\u001b[1;33m\u001b[0m\u001b[1;33m\u001b[0m\u001b[0m\n\u001b[1;32m---> 31\u001b[1;33m     \u001b[0mimg1_representation\u001b[0m \u001b[1;33m=\u001b[0m \u001b[0mmodel\u001b[0m\u001b[1;33m.\u001b[0m\u001b[0mforward\u001b[0m\u001b[1;33m(\u001b[0m\u001b[1;33m)\u001b[0m\u001b[1;33m\u001b[0m\u001b[1;33m\u001b[0m\u001b[0m\n\u001b[0m\u001b[0;32m     32\u001b[0m \u001b[1;33m\u001b[0m\u001b[0m\n\u001b[0;32m     33\u001b[0m     \u001b[0mmodel\u001b[0m\u001b[1;33m.\u001b[0m\u001b[0msetInput\u001b[0m\u001b[1;33m(\u001b[0m\u001b[0mimg2_blob\u001b[0m\u001b[1;33m)\u001b[0m\u001b[1;33m\u001b[0m\u001b[1;33m\u001b[0m\u001b[0m\n",
      "\u001b[1;31merror\u001b[0m: OpenCV(4.5.2) C:\\Users\\runneradmin\\AppData\\Local\\Temp\\pip-req-build-vi271kac\\opencv\\modules\\dnn\\src\\layers\\convolution_layer.cpp:386: error: (-2:Unspecified error) Number of input channels should be multiple of 3 but got 1 in function 'cv::dnn::ConvolutionLayerImpl::getMemoryShapes'\n"
     ]
    }
   ],
   "source": [
    "# AJ1=cv2.imread(\"AJ1.jpg\")\n",
    "# AJ2=cv2.imread(\"AJ2.jpg\")\n",
    "verify(\"md1.jpg\", \"md2.jpg\", plot = True)"
   ]
  },
  {
   "cell_type": "code",
   "execution_count": null,
   "id": "74d602a3-c160-4e28-a6ff-21360e6cfc59",
   "metadata": {},
   "outputs": [],
   "source": []
  }
 ],
 "metadata": {
  "kernelspec": {
   "display_name": "Python 3",
   "language": "python",
   "name": "python3"
  },
  "language_info": {
   "codemirror_mode": {
    "name": "ipython",
    "version": 3
   },
   "file_extension": ".py",
   "mimetype": "text/x-python",
   "name": "python",
   "nbconvert_exporter": "python",
   "pygments_lexer": "ipython3",
   "version": "3.8.10"
  }
 },
 "nbformat": 4,
 "nbformat_minor": 5
}
